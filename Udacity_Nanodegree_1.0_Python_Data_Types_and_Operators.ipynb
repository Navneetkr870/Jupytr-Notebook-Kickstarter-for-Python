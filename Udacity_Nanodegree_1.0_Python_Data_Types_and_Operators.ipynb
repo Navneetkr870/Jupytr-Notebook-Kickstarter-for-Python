{
 "cells": [
  {
   "cell_type": "markdown",
   "metadata": {},
   "source": [
    "<table style=\"margin: 0px auto;background-color:rgba(0, 0, 0, 0);\">\n",
    "    <tr>\n",
    "        <td><img src=\"https://upload.wikimedia.org/wikipedia/commons/3/3b/Udacity_logo.png\" width=150 height=150 style=\"float;\"></td>\n",
    "        <td><p style=\"text-align:center;color:#5EA1DD;font-size:175%\">Udacity Data Science Nanodegree - Student Notes &nbsp;&nbsp;<p></td>\n",
    "    </tr>\n",
    "</table>\n",
    "\n",
    "<p style=\"text-align:center;color:#445089\">Navneet Kumar ||\n",
    "<a href=\"https://github.com/Navneetkr870\">https://github.com/Navneetkr870</a> || <a href=\"https://www.linkedin.com/in/navneetkr870/\">https://www.linkedin.com/in/navneetkr870/</a></p>\n",
    "\n",
    "____________________________________________________________________________________________"
   ]
  },
  {
   "cell_type": "markdown",
   "metadata": {},
   "source": [
    "<p style=\"text-align:left;\">\n",
    "    <a href=\" \"> Previous Page </a>\n",
    "    <span style=\"float:right;\">\n",
    "        <a href=\" \"> Next Page </a>\n",
    "    </span>\n",
    "</p>"
   ]
  },
  {
   "cell_type": "markdown",
   "metadata": {},
   "source": [
    "<p style=\"text-align:center;color:#2CB23C;font-size:200%;\"> \n",
    "    -- 1.0 Python Basics - Data Types and Operators -- \n",
    "</p>\n",
    "\n",
    "____________________________________________________________________________________________"
   ]
  },
  {
   "cell_type": "markdown",
   "metadata": {},
   "source": [
    "## 1. Variable assignments : ="
   ]
  },
  {
   "cell_type": "code",
   "execution_count": 2,
   "metadata": {},
   "outputs": [
    {
     "name": "stdout",
     "output_type": "stream",
     "text": [
      "9\n",
      "4.5\n",
      "220\n",
      "550\n"
     ]
    }
   ],
   "source": [
    "# Assigning two varaibles\n",
    "var1=9\n",
    "var2=4.5\n",
    "print(var1)\n",
    "print(var2)\n",
    "\n",
    "# Single line multiple assignments\n",
    "var3,var4=220,550\n",
    "print(var3)\n",
    "print(var4)"
   ]
  },
  {
   "cell_type": "markdown",
   "metadata": {},
   "source": [
    "---"
   ]
  },
  {
   "cell_type": "markdown",
   "metadata": {},
   "source": [
    "## 2. Find the variable types : type(variable_name)"
   ]
  },
  {
   "cell_type": "code",
   "execution_count": 3,
   "metadata": {},
   "outputs": [
    {
     "name": "stdout",
     "output_type": "stream",
     "text": [
      "<class 'int'>\n",
      "<class 'float'>\n"
     ]
    }
   ],
   "source": [
    "# Assigning two varaibles and printing their variable type\n",
    "var1=9\n",
    "var2=4.5\n",
    "print(type(var1))\n",
    "print(type(var2))"
   ]
  },
  {
   "cell_type": "markdown",
   "metadata": {},
   "source": [
    "---"
   ]
  },
  {
   "cell_type": "markdown",
   "metadata": {},
   "source": [
    "## 3. Calculation Operators : +,-,*,/ etc."
   ]
  },
  {
   "cell_type": "code",
   "execution_count": 4,
   "metadata": {},
   "outputs": [
    {
     "name": "stdout",
     "output_type": "stream",
     "text": [
      "13.5\n",
      "<class 'float'>\n"
     ]
    }
   ],
   "source": [
    "# Assigning two varaibles and summing them \n",
    "# Printing their final value and  variable type\n",
    "\n",
    "var1=9\n",
    "var2=4.5\n",
    "var3=var1 + var2\n",
    "print(var3)\n",
    "print(type(var3))"
   ]
  },
  {
   "cell_type": "markdown",
   "metadata": {},
   "source": [
    "You'd reckon, summing integer and float gives you float"
   ]
  },
  {
   "cell_type": "markdown",
   "metadata": {},
   "source": [
    "---"
   ]
  },
  {
   "cell_type": "markdown",
   "metadata": {},
   "source": [
    "## 4. Booleans, Comparison Operators"
   ]
  },
  {
   "cell_type": "markdown",
   "metadata": {},
   "source": [
    "> Booleans store values like True and False\n",
    "\n",
    "> Comparison Operators help us analyse an equation in terms of whether it's True or False\n",
    "\n",
    "![](files/Snippets/1.0_Python_Basics_Boolean_Comparison.png)"
   ]
  },
  {
   "cell_type": "code",
   "execution_count": 5,
   "metadata": {},
   "outputs": [
    {
     "name": "stdout",
     "output_type": "stream",
     "text": [
      "True\n",
      "True\n",
      "False\n",
      "True\n"
     ]
    }
   ],
   "source": [
    "# Assigning two varaibles \n",
    "# Printing their comparison\n",
    "\n",
    "var1=9\n",
    "var2=4.5\n",
    "ans1 = var1>var2\n",
    "ans2 = var1>5 or var2>5\n",
    "ans3 = not (var1>5 and var1>var2)\n",
    "ans4 = ans1==ans2\n",
    "print(ans1)\n",
    "print(ans2)\n",
    "print(ans3)\n",
    "print(ans4)"
   ]
  },
  {
   "cell_type": "markdown",
   "metadata": {},
   "source": [
    "---"
   ]
  },
  {
   "cell_type": "markdown",
   "metadata": {},
   "source": [
    "## 5. Strings"
   ]
  },
  {
   "cell_type": "markdown",
   "metadata": {},
   "source": [
    "Strings could be assigned using both quotes and double quotes. In case of using quotes inside the quotes, use \\ "
   ]
  },
  {
   "cell_type": "code",
   "execution_count": 6,
   "metadata": {},
   "outputs": [
    {
     "name": "stdout",
     "output_type": "stream",
     "text": [
      "Hello\n",
      "Hell\"lllll\\llllo\n"
     ]
    }
   ],
   "source": [
    "# Assign a string and print it's value\n",
    "str1 = \"Hello\"\n",
    "print(str1)\n",
    "\n",
    "str2 = \"Hell\\\"lllll\\llllo\"\n",
    "print(str2)"
   ]
  },
  {
   "cell_type": "markdown",
   "metadata": {},
   "source": [
    "For str2 - The first backslash \\ has been used to understand quotes \" as a part of string. The second backslash \\ became and integral part of the string"
   ]
  },
  {
   "cell_type": "markdown",
   "metadata": {},
   "source": [
    "## 6. Operations on Strings"
   ]
  },
  {
   "cell_type": "markdown",
   "metadata": {},
   "source": [
    "> '+ for concatenate'\n",
    "\n",
    "> '* for repetition'\n",
    "\n",
    "> len(string_name) for length\n"
   ]
  },
  {
   "cell_type": "code",
   "execution_count": 7,
   "metadata": {},
   "outputs": [
    {
     "name": "stdout",
     "output_type": "stream",
     "text": [
      "HelloWorld\n",
      "Hello World\n",
      "Hello Hello Hello \n",
      "5\n",
      "10\n"
     ]
    }
   ],
   "source": [
    "# Assign a string and print it's value\n",
    "str1 = \"Hello\"\n",
    "str2 = \"World\"\n",
    "print(str1+str2)\n",
    "print(str1+\" \"+str2)\n",
    "print((str1+\" \")*3)\n",
    "print(len(str1))\n",
    "print(len(str1)+len(str2))"
   ]
  },
  {
   "cell_type": "markdown",
   "metadata": {},
   "source": [
    "---"
   ]
  },
  {
   "cell_type": "markdown",
   "metadata": {},
   "source": [
    "## 7. Changing type of variables"
   ]
  },
  {
   "cell_type": "code",
   "execution_count": 9,
   "metadata": {},
   "outputs": [
    {
     "name": "stdout",
     "output_type": "stream",
     "text": [
      "529\n",
      "This week's total sales: 529\n"
     ]
    }
   ],
   "source": [
    "mon_sales = \"121\"\n",
    "tues_sales = \"105\"\n",
    "wed_sales = \"110\"\n",
    "thurs_sales = \"98\"\n",
    "fri_sales = \"95\"\n",
    "\n",
    "tot_sales=int(mon_sales)+int(tues_sales)+int(wed_sales)+int(thurs_sales)+int(fri_sales)\n",
    "print(tot_sales)\n",
    "tot_sales2=str(tot_sales)\n",
    "print(\"This week's total sales: \" + tot_sales2)"
   ]
  },
  {
   "cell_type": "markdown",
   "metadata": {},
   "source": [
    "## 8. String Methods"
   ]
  },
  {
   "cell_type": "markdown",
   "metadata": {},
   "source": [
    "String methods are used to perform small functions on a particular string like this :\n",
    "\n",
    "![](files/Snippets/1.0_Python_Basics_String_Methods.png)"
   ]
  },
  {
   "cell_type": "code",
   "execution_count": 2,
   "metadata": {},
   "outputs": [
    {
     "name": "stdout",
     "output_type": "stream",
     "text": [
      "Navneet Kumar\n",
      "My name is NavNeet kumar\n"
     ]
    },
    {
     "data": {
      "text/plain": [
       "['My', 'name', 'is NavNeet kumar']"
      ]
     },
     "execution_count": 2,
     "metadata": {},
     "output_type": "execute_result"
    }
   ],
   "source": [
    "str1=\"NavNeet kumar\"\n",
    "print(str1.title())\n",
    "str2=\"My name is {}\".format(str1)\n",
    "print(str2)\n",
    "str2.split(' ',2)"
   ]
  },
  {
   "cell_type": "code",
   "execution_count": 3,
   "metadata": {},
   "outputs": [
    {
     "name": "stdout",
     "output_type": "stream",
     "text": [
      "My\n"
     ]
    }
   ],
   "source": [
    "str2.split('e',3)\n",
    "print(str2[:2])"
   ]
  },
  {
   "cell_type": "markdown",
   "metadata": {},
   "source": [
    "---"
   ]
  },
  {
   "cell_type": "markdown",
   "metadata": {},
   "source": [
    "## 9. Lists and Membership operators\n",
    "\n",
    "Lists can have multiple items, they might be dissimilar as well"
   ]
  },
  {
   "cell_type": "code",
   "execution_count": 8,
   "metadata": {},
   "outputs": [
    {
     "name": "stdout",
     "output_type": "stream",
     "text": [
      "['Jan', 'Feb', 'Mar', 'Apr', 'May']\n",
      "<class 'int'>\n",
      "<class 'float'>\n",
      "<class 'str'>\n",
      "<class 'bool'>\n"
     ]
    }
   ],
   "source": [
    "months=['Jan','Feb','Mar','Apr','May']\n",
    "print(months)\n",
    "list_of_random_things = [1, 3.4, 'a string', True]\n",
    "print(type(list_of_random_things[0]))\n",
    "print(type(list_of_random_things[1]))\n",
    "print(type(list_of_random_things[-2]))\n",
    "print(type(list_of_random_things[len(list_of_random_things)-1]))"
   ]
  },
  {
   "cell_type": "markdown",
   "metadata": {},
   "source": [
    "## 10. Slicing and Dicing of lists"
   ]
  },
  {
   "cell_type": "code",
   "execution_count": 20,
   "metadata": {},
   "outputs": [
    {
     "name": "stdout",
     "output_type": "stream",
     "text": [
      "['Jan', 'Feb', 'Mar', 'Apr', 'May']\n",
      "['Jan', 'Feb']\n",
      "['Jan', 'Feb', 'Mar', 'Apr']\n",
      "['Mar', 'Apr', 'May']\n",
      "True True\n"
     ]
    }
   ],
   "source": [
    "print(months)\n",
    "\n",
    "# Includes the lower index but excludes the upper bound\n",
    "print(months[0:2])\n",
    "\n",
    "# Can use range at one place to play around with bigger ranges\n",
    "print(months[:4])\n",
    "print(months[2:])\n",
    "\n",
    "# Use keywords \n",
    "print('Mar' in months,'Dec' not in months)"
   ]
  },
  {
   "cell_type": "markdown",
   "metadata": {},
   "source": [
    "## 11. Mutability and Order : Lists and Strings"
   ]
  },
  {
   "cell_type": "markdown",
   "metadata": {},
   "source": [
    "![](files/Snippets/1.0_Python_Basics_Order_Mutability.png)"
   ]
  },
  {
   "cell_type": "code",
   "execution_count": 22,
   "metadata": {},
   "outputs": [
    {
     "name": "stdout",
     "output_type": "stream",
     "text": [
      "<class 'list'>\n"
     ]
    }
   ],
   "source": [
    "my_list=[1,2,3,4,5]\n",
    "print(type(my_list))"
   ]
  },
  {
   "cell_type": "code",
   "execution_count": 24,
   "metadata": {},
   "outputs": [
    {
     "name": "stdout",
     "output_type": "stream",
     "text": [
      "[1, 20, 3, 4, 5]\n"
     ]
    }
   ],
   "source": [
    "my_list[1]=20\n",
    "print(my_list)"
   ]
  },
  {
   "cell_type": "markdown",
   "metadata": {},
   "source": [
    "The above two statements shows that lists are mutable"
   ]
  },
  {
   "cell_type": "code",
   "execution_count": 27,
   "metadata": {},
   "outputs": [
    {
     "name": "stdout",
     "output_type": "stream",
     "text": [
      "e\n"
     ]
    }
   ],
   "source": [
    "greeting = \"Hello\"\n",
    "print(greeting[1])"
   ]
  },
  {
   "cell_type": "code",
   "execution_count": 29,
   "metadata": {},
   "outputs": [
    {
     "ename": "TypeError",
     "evalue": "'str' object does not support item assignment",
     "output_type": "error",
     "traceback": [
      "\u001b[1;31m---------------------------------------------------------------------------\u001b[0m",
      "\u001b[1;31mTypeError\u001b[0m                                 Traceback (most recent call last)",
      "\u001b[1;32m<ipython-input-29-6396081a7277>\u001b[0m in \u001b[0;36m<module>\u001b[1;34m\u001b[0m\n\u001b[1;32m----> 1\u001b[1;33m \u001b[0mgreeting\u001b[0m\u001b[1;33m[\u001b[0m\u001b[1;36m1\u001b[0m\u001b[1;33m]\u001b[0m\u001b[1;33m=\u001b[0m\u001b[1;34m\"f\"\u001b[0m\u001b[1;33m\u001b[0m\u001b[1;33m\u001b[0m\u001b[0m\n\u001b[0m",
      "\u001b[1;31mTypeError\u001b[0m: 'str' object does not support item assignment"
     ]
    }
   ],
   "source": [
    "greeting[1]=\"f\""
   ]
  },
  {
   "cell_type": "markdown",
   "metadata": {},
   "source": [
    "Error shows that Strings are immutable but ordered"
   ]
  },
  {
   "cell_type": "markdown",
   "metadata": {},
   "source": [
    "## 12. List Methods"
   ]
  },
  {
   "cell_type": "markdown",
   "metadata": {},
   "source": [
    "Four functions :\n",
    "+ len()\n",
    "+ max()\n",
    "+ min()\n",
    "+ sorted()"
   ]
  },
  {
   "cell_type": "code",
   "execution_count": 61,
   "metadata": {},
   "outputs": [
    {
     "name": "stdout",
     "output_type": "stream",
     "text": [
      "11\n",
      "9\n",
      "1\n",
      "[1, 2, 3, 4, 7, 8, 9, 10, 11]\n",
      "xyz\n",
      "['a', 'abc', 'abcded', 'xyz']\n"
     ]
    }
   ],
   "source": [
    "my_list=[1,2,3,4,10,11,9,8,7]\n",
    "print(max(my_list))\n",
    "print(len(my_list))\n",
    "print(min(my_list))\n",
    "print(sorted(my_list))\n",
    "\n",
    "my_list2 = ['abc','xyz','abcded','a']\n",
    "print(max(my_list2))\n",
    "print(sorted(my_list2))\n"
   ]
  },
  {
   "cell_type": "markdown",
   "metadata": {},
   "source": [
    "## 13. Join, Pop and Append"
   ]
  },
  {
   "cell_type": "code",
   "execution_count": 62,
   "metadata": {},
   "outputs": [
    {
     "name": "stdout",
     "output_type": "stream",
     "text": [
      "['abc', 'xyz', 'abcded', 'a', 'abxy']\n",
      "[1, 2, 4, 10, 11, 9, 8, 7]\n"
     ]
    }
   ],
   "source": [
    "my_list2.append('abxy')\n",
    "print(my_list2)\n",
    "\n",
    "my_list.pop(2)\n",
    "print(my_list)"
   ]
  },
  {
   "cell_type": "code",
   "execution_count": 43,
   "metadata": {},
   "outputs": [
    {
     "name": "stdout",
     "output_type": "stream",
     "text": [
      "abc-xyz-abcded-a-abxy\n",
      "abc and xyz and abcded and a and abxy\n"
     ]
    }
   ],
   "source": [
    "print(\"-\".join(my_list2))\n",
    "print(\" and \".join(my_list2))"
   ]
  },
  {
   "cell_type": "markdown",
   "metadata": {},
   "source": [
    "## 14. Tuples"
   ]
  },
  {
   "cell_type": "markdown",
   "metadata": {},
   "source": [
    "Tuples are similar to lists in that they store an ordered collection of objects which can be accessed by their indices. Unlike lists, however, tuples are immutable - you can't add and remove items from tuples, or sort them in place."
   ]
  },
  {
   "cell_type": "markdown",
   "metadata": {},
   "source": [
    "### Quick tutorial in differences between Lists and Tuples :"
   ]
  },
  {
   "cell_type": "markdown",
   "metadata": {},
   "source": [
    "Lists are mutable, while tuples are immutable. Both have their own advantages - \n",
    "+ For Appending performance, lists are better \n",
    "+ For Memory Allocation and Debugging, tuples are better"
   ]
  },
  {
   "cell_type": "markdown",
   "metadata": {},
   "source": [
    "> [https://www.afternerd.com/blog/difference-between-list-tuple/](https://www.afternerd.com/blog/difference-between-list-tuple/)"
   ]
  },
  {
   "cell_type": "code",
   "execution_count": 51,
   "metadata": {},
   "outputs": [
    {
     "name": "stdout",
     "output_type": "stream",
     "text": [
      "1. The dimensions are 10 x 20 x 30\n",
      "30\n"
     ]
    }
   ],
   "source": [
    "dimensions = 10,20,30\n",
    "print(\"1. The dimensions are {} x {} x {}\".format(dimensions[0],dimensions[1],dimensions[2]))\n",
    "\n",
    "l,b,w=dimensions\n",
    "print(w)"
   ]
  },
  {
   "cell_type": "markdown",
   "metadata": {},
   "source": [
    "Parantheses are optional while declaring a tuple"
   ]
  },
  {
   "cell_type": "markdown",
   "metadata": {},
   "source": [
    "## 15. Sets"
   ]
  },
  {
   "cell_type": "markdown",
   "metadata": {},
   "source": [
    "A set is a data type for mutable unordered collections of unique elements. One application of a set is to quickly remove duplicates from a list."
   ]
  },
  {
   "cell_type": "code",
   "execution_count": 53,
   "metadata": {},
   "outputs": [
    {
     "name": "stdout",
     "output_type": "stream",
     "text": [
      "{1, 2, 3, 6}\n"
     ]
    }
   ],
   "source": [
    "numbers = [1, 2, 6, 3, 1, 1, 6]\n",
    "unique_nums = set(numbers)\n",
    "print(unique_nums)"
   ]
  },
  {
   "cell_type": "code",
   "execution_count": 63,
   "metadata": {},
   "outputs": [
    {
     "name": "stdout",
     "output_type": "stream",
     "text": [
      "{1, 2, 3, 6, 7}\n"
     ]
    }
   ],
   "source": [
    "unique_nums.add(7)\n",
    "print(unique_nums)"
   ]
  },
  {
   "cell_type": "markdown",
   "metadata": {},
   "source": [
    "## 16. Dictionaries"
   ]
  },
  {
   "cell_type": "code",
   "execution_count": 4,
   "metadata": {},
   "outputs": [
    {
     "name": "stdout",
     "output_type": "stream",
     "text": [
      "{'number': 2, 'weight': 4.002602, 'symbol': 'He'}\n",
      "1.00794\n"
     ]
    }
   ],
   "source": [
    "elements = {\"hydrogen\": {\"number\": 1,\n",
    "                         \"weight\": 1.00794,\n",
    "                         \"symbol\": \"H\"},\n",
    "              \"helium\": {\"number\": 2,\n",
    "                         \"weight\": 4.002602,\n",
    "                         \"symbol\": \"He\"}}\n",
    "\n",
    "helium = elements[\"helium\"]  # get the helium dictionary\n",
    "hydrogen_weight = elements[\"hydrogen\"][\"weight\"]  # get hydrogen's weight\n",
    "\n",
    "print(helium)\n",
    "print(hydrogen_weight)"
   ]
  },
  {
   "cell_type": "markdown",
   "metadata": {},
   "source": [
    "### Quick tutorial on Python dictionary :"
   ]
  },
  {
   "cell_type": "markdown",
   "metadata": {},
   "source": [
    "> [https://www.pythonforbeginners.com/dictionary/how-to-use-dictionaries-in-python](https://www.pythonforbeginners.com/dictionary/how-to-use-dictionaries-in-python)"
   ]
  },
  {
   "cell_type": "markdown",
   "metadata": {},
   "source": [
    "---"
   ]
  },
  {
   "cell_type": "markdown",
   "metadata": {},
   "source": [
    "In the next section, we will look into Control Flows"
   ]
  }
 ],
 "metadata": {
  "kernelspec": {
   "display_name": "Python 3",
   "language": "python",
   "name": "python3"
  },
  "language_info": {
   "codemirror_mode": {
    "name": "ipython",
    "version": 3
   },
   "file_extension": ".py",
   "mimetype": "text/x-python",
   "name": "python",
   "nbconvert_exporter": "python",
   "pygments_lexer": "ipython3",
   "version": "3.7.3"
  }
 },
 "nbformat": 4,
 "nbformat_minor": 2
}

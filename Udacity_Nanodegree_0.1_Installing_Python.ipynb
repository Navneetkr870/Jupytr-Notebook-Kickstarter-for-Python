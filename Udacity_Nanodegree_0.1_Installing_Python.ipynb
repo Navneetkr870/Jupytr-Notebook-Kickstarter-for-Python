{
 "cells": [
  {
   "cell_type": "markdown",
   "metadata": {},
   "source": [
    "<table style=\"margin: 0px auto;background-color:rgba(0, 0, 0, 0);\">\n",
    "    <tr>\n",
    "        <td><img src=\"https://upload.wikimedia.org/wikipedia/commons/3/3b/Udacity_logo.png\" width=150 height=150 style=\"float;\"></td>\n",
    "        <td><p style=\"text-align:center;color:#5EA1DD;font-size:175%\">Udacity Data Science Nanodegree - Student Notes &nbsp;&nbsp;<p></td>\n",
    "    </tr>\n",
    "</table>\n",
    "\n",
    "<p style=\"text-align:center;color:#445089\">Navneet Kumar ||\n",
    "<a href=\"https://github.com/Navneetkr870\">https://github.com/Navneetkr870</a> || <a href=\"https://www.linkedin.com/in/navneetkr870/\">https://www.linkedin.com/in/navneetkr870/</a></p>\n",
    "\n",
    "____________________________________________________________________________________________"
   ]
  },
  {
   "cell_type": "markdown",
   "metadata": {},
   "source": [
    "<p style=\"text-align:left;\">\n",
    "    <a href=\" \"> Previous Page </a>\n",
    "    <span style=\"float:right;\">\n",
    "        <a href=\" \"> Next Page </a>\n",
    "    </span>\n",
    "</p>"
   ]
  },
  {
   "cell_type": "markdown",
   "metadata": {},
   "source": [
    "<p style=\"text-align:center;color:#2CB23C;font-size:200%;\"> \n",
    "    -- 0.1 Installing Python -- \n",
    "</p>\n",
    "\n",
    "____________________________________________________________________________________________"
   ]
  },
  {
   "cell_type": "markdown",
   "metadata": {},
   "source": [
    "<h2> 1. How to install Python </h2>\n",
    "\n",
    "<p> While there are multiple ways to start using Python but the simplest way I found is accessing it is using Jupytr (JUlia, PYthon, R) notebooks which could be launched using Anaconda Navigator.</p>\n",
    "\n",
    "<p> Anaconda : </p>\n",
    "<ul>\n",
    "    <li><a href=\"https://www.anaconda.com/distribution/#download-section\"> Download Section</a> </li>\n",
    "    <li>If you're facing any issues check the official Anaconda Troubleshooting link <a href=\"https://docs.anaconda.com/anaconda/user-guide/troubleshooting/\"> here </a> </li>\n",
    "    <li>Unfortunately I personally had various issues with the latest package in the download section above, thus I went to the <a href=\"https://repo.continuum.io/archive/\"> archive</a> and downloadeded <strong>Anaconda3-2019.03-Windows-x86_64.exe</strong> and it worked all well with me </li>\n",
    "</ul>"
   ]
  },
  {
   "cell_type": "markdown",
   "metadata": {},
   "source": [
    "---"
   ]
  },
  {
   "cell_type": "markdown",
   "metadata": {},
   "source": [
    "In the next section, we will look into how to get used to Jupytr notebook"
   ]
  }
 ],
 "metadata": {
  "kernelspec": {
   "display_name": "Python 3",
   "language": "python",
   "name": "python3"
  },
  "language_info": {
   "codemirror_mode": {
    "name": "ipython",
    "version": 3
   },
   "file_extension": ".py",
   "mimetype": "text/x-python",
   "name": "python",
   "nbconvert_exporter": "python",
   "pygments_lexer": "ipython3",
   "version": "3.7.3"
  }
 },
 "nbformat": 4,
 "nbformat_minor": 2
}

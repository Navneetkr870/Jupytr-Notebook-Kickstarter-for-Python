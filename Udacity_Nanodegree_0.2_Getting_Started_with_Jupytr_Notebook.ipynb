{
 "cells": [
  {
   "cell_type": "markdown",
   "metadata": {},
   "source": [
    "<table style=\"margin: 0px auto;background-color:rgba(0, 0, 0, 0);\">\n",
    "    <tr>\n",
    "        <td><img src=\"https://upload.wikimedia.org/wikipedia/commons/3/3b/Udacity_logo.png\" width=150 height=150 style=\"float;\"></td>\n",
    "        <td><p style=\"text-align:center;color:#5EA1DD;font-size:175%\">Udacity Data Science Nanodegree - Student Notes &nbsp;&nbsp;<p></td>\n",
    "    </tr>\n",
    "</table>\n",
    "\n",
    "<p style=\"text-align:center;color:#445089\">Navneet Kumar ||\n",
    "<a href=\"https://github.com/Navneetkr870\">https://github.com/Navneetkr870</a> || <a href=\"https://www.linkedin.com/in/navneetkr870/\">https://www.linkedin.com/in/navneetkr870/</a></p>\n",
    "\n",
    "____________________________________________________________________________________________"
   ]
  },
  {
   "cell_type": "markdown",
   "metadata": {},
   "source": [
    "<p style=\"text-align:left;\">\n",
    "    <a href=\"C:\\Users\\Navneet\\Desktop\\Data Science Toolkit\\Udacity Nano Degree\\Udacity_Nanodegree_0.1_Installing_Python.py\"> Previous Page </a>\n",
    "    <span style=\"float:right;\">\n",
    "        <a href=\" \"> Next Page </a>\n",
    "    </span>\n",
    "</p>"
   ]
  },
  {
   "cell_type": "markdown",
   "metadata": {},
   "source": [
    "<p style=\"text-align:center;color:#2CB23C;font-size:200%;\"> \n",
    "    -- 0.2 Getting Started with Jupytr Notebook -- \n",
    "</p>\n",
    "\n",
    "____________________________________________________________________________________________"
   ]
  },
  {
   "cell_type": "markdown",
   "metadata": {},
   "source": [
    "<h2> 1. How to get started with Jupytr Notebook </h2>\n",
    "\n",
    "<p> As mentioned in previous section, Jupytr notebooks is one of the simple tool to start writing Python, here we would talk about how do we get started with these notebooks\n",
    "\n",
    "<ol>\n",
    "    <li>Dedicate a designated local folder location to save all your work</li>\n",
    "    <img src=\"files/snippets/0.2_Jupytr_Notebook_Folder.png\">\n",
    "    <li>In the dedicated space, create a new notepad using the following option, create a Python3 notepad</li>\n",
    "    <img src=\"files/snippets/0.2_Jupytr_Notebook_New_Book.png\">\n",
    "    <li>Now you've been successfully opened a Blank Notebook and you can start writing your code in the cells</li>\n",
    "    <img src=\"files/snippets/0.2_Jupytr_Notebook_Blank_Book.png\"><br>\n",
    "    <li>Go ahead and write your first code and then press <code>Ctrl + Enter</code> : </li><br>\n",
    "    <b><code>print(\"Hello World\")</code></b>\n",
    "    <img src=\"files/snippets/0.2_Jupytr_Notebook_Hello_World.png\"><br>\n",
    "    <li>Congrats! You've written your first code </li><br>\n",
    "    <li>You can rename the Notebook like you want, by clicking on the name at the top </li>\n",
    "    <img src=\"files/snippets/0.2_Jupytr_Notebook_Rename_Book.png\"><br>\n",
    "    <li>You can see the file being created in the location as follows</li>\n",
    "    <img src=\"files/snippets/0.2_Jupytr_Notebook_Rename_Book_Folder_View.png\"><br>\n",
    "    <li>That should bring us to the end of setting up our first notebook</li>\n",
    "</ol>"
   ]
  },
  {
   "cell_type": "markdown",
   "metadata": {},
   "source": [
    "\n",
    "____________________________________________________________________________________________"
   ]
  },
  {
   "cell_type": "markdown",
   "metadata": {},
   "source": [
    "<h2> 2. Getting used to Jupytr Notebook  </h2>\n",
    "\n",
    "<p> In the section above, we were able to setup our first notebook but we need to understand few basics of <strong>working with the Jupytr notebook</strong>. Remember, this opens in a web browser (Chrome for me) and thus few of shortcuts (like <code>Ctrl + Z</code> OR <code>Ctrl + S</code>) might refer to the web browser's functions and not just with Jupytr Notebook. In this section we would go about understanding the basic commands and overall UI to get you hands on with the notebook. </p>\n",
    "\n",
    "<h3>Cell types in a Jupytr Notebook :</h3>\n",
    "<ol>\n",
    "    <li>Code Cell : The default cells in the notebook are code cells and pressing <code>Ctrl+Enter</code> will execute the command as per Python language</li>\n",
    "    <li>Markdown : If you go the toolbar above and access the section which says <code>Code</code>, the drop-down menu will let you select Code or Markdown or Raw NBConvert. You might need Raw NBConvert to keep cell as to look like code cell but not execute. The Markdown will be of immense use in documenting your codes, it would help you make it presentable, help you create a portfolio etc. Even this cell which you're looking at, is made up of Markdown cell!</li>\n",
    "    <img src=\"files/snippets/0.2_Jupytr_Notebook_Code_Markdown.png\"><br>\n",
    "</ol>\n",
    "\n",
    "<h3>Code Cell : </h3>\n",
    "<p> To begin working with Code cells, only remember to use <code>Ctrl+Enter</code> to execute your cell OR <code>Alt+Enter</code> if you want to execute and create a new cell after the current cell.</p>\n",
    "\n",
    "<h3>Markdown Cell : </h3>\n",
    "<p> I've found Markdown cells to be very interesting to write text, put links, images etc. But to begin with the most easiest and useful ones :</p>\n",
    "\n",
    "<ul>\n",
    "    <li> Bold Content : Put two asteriks at the beginning and end. Example : Using <code>**text_you_want_to_bold**</code> would show as <strong>text_you_want_to_bold </strong>.</li>\n",
    "    <li> Headings : Use # for H1 and ## for H2... ###### for H6.. at the beginning of text. Example : Using <code>#Heading1</code> would show as <h1>Heading1</h1></li>\n",
    "</ul>\n",
    "\n",
    "<p>If you know HTML you'd be very happy to use those commands. I found it quite handy to format the whole content easily with various HTML functions</p>\n",
    "\n",
    "<p> There are numerouse resources available online which are useful to get you closer to work with Markdown cells. I found this to have most of it together :</p>\n",
    "\n",
    ">[Markdown Cheatsheet 1](http://github.com/adam-p/markdown-here/wiki/Markdown-Cheatsheet)<br>\n",
    ">[Markdown Cheatsheet 2](https://daringfireball.net/projects/markdown/basics)\n",
    "\n",
    "<p> Remember, for every cell that you're working in Jupytr notebook, press <code>Ctrl+Enter</code> to see the output</p>"
   ]
  },
  {
   "cell_type": "markdown",
   "metadata": {},
   "source": [
    "---"
   ]
  },
  {
   "cell_type": "markdown",
   "metadata": {},
   "source": [
    "<h2> 3. Shift between Code cells and Markdown </h2>\n",
    "\n",
    "<p> We talked about Code cells and Markdown above, but how about moving swiftly between these two type of cells</p>\n",
    "\n",
    "<h3>Shortcut :</h3><br>\n",
    "\n",
    "> To change any cell to Code cell : `Esc` and `Y`\n",
    "\n",
    "<br>\n",
    "\n",
    "> To change any cell to Markdown : `Esc` and ` M`\n",
    "\n",
    "<br>\n",
    "\n",
    "> To change any cell to Raw NBConvert : `Esc` and `R`\n",
    "\n",
    "<br><br>\n",
    "One of quick shortcuts to remove the output from any code cell is to use `Esc` and `R`, changing it to Raw and then `Esc` and `Y`, changing it to Code cell again"
   ]
  },
  {
   "cell_type": "markdown",
   "metadata": {},
   "source": [
    "---"
   ]
  },
  {
   "cell_type": "markdown",
   "metadata": {},
   "source": [
    "<h2> 4. How can you find quick shortcuts for everything : </h2>\n",
    "\n",
    "<p> While we touched upon few beginner level shortcuts, there are tons of shortcuts available in Jupytr notebook. You can find of them :</p>\n",
    "\n",
    "> `Esc` and `h`\n",
    "<br>\n",
    "\n",
    "OR if you want to type the command and search for the best option available, you can press\n",
    "\n",
    "<br>\n",
    "\n",
    "> `Ctrl + Shift + P` and then type what you'd like to perform\n",
    "\n",
    "<h3>IMP : As you would have noticed till now, most of shortcuts work when you press <code>Esc</code> and then a particular key. Some shortcuts that I commonly use are:</h3>\n",
    "<br>\n",
    "\n",
    "> Delete a cell : `Esc` and `DD` \n",
    "<br>\n",
    " \n",
    "> To complete a previously used variable name : `Tab`\n",
    "<br>\n",
    " \n",
    "> To find a tooltip for a library : `Shift + Tab` once or do it twice for more details\n",
    "<br>\n",
    " \n",
    "> To enable the line numbers : `Esc` and `L`\n",
    "<br>\n",
    " \n",
    "> To comment a code line/lines OR Uncomment within code cell : `Ctrl + /`\n",
    "<br>\n",
    " "
   ]
  },
  {
   "cell_type": "markdown",
   "metadata": {},
   "source": [
    "## 5. Creating a table in markdown"
   ]
  },
  {
   "cell_type": "markdown",
   "metadata": {},
   "source": [
    "Running the following piece of code in markdown will give you the following output"
   ]
  },
  {
   "cell_type": "markdown",
   "metadata": {},
   "source": [
    "```\n",
    "First Header | Second Header\n",
    "------------ | -------------\n",
    "Content Cell | Content Cell\n",
    "Content Cell | Content Cell\n",
    "Content Cell | Content Cell\n",
    "```"
   ]
  },
  {
   "cell_type": "markdown",
   "metadata": {},
   "source": [
    "First Header | Second Header\n",
    "------------ | -------------\n",
    "Content Cell | Content Cell\n",
    "Content Cell | Content Cell\n",
    "Content Cell | Content Cell"
   ]
  },
  {
   "cell_type": "markdown",
   "metadata": {},
   "source": [
    "---"
   ]
  },
  {
   "cell_type": "markdown",
   "metadata": {},
   "source": [
    "In the next section, we will look into basics of Python"
   ]
  }
 ],
 "metadata": {
  "kernelspec": {
   "display_name": "Python 3",
   "language": "python",
   "name": "python3"
  },
  "language_info": {
   "codemirror_mode": {
    "name": "ipython",
    "version": 3
   },
   "file_extension": ".py",
   "mimetype": "text/x-python",
   "name": "python",
   "nbconvert_exporter": "python",
   "pygments_lexer": "ipython3",
   "version": "3.7.3"
  }
 },
 "nbformat": 4,
 "nbformat_minor": 2
}
